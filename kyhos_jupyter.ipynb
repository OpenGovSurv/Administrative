library(ggplot2)
library(tidyverse)

a <- runif(40, min = 0, max = 300)
b <- runif(40, min = 0, max = 500)

dat <- data.frame(a,b)

